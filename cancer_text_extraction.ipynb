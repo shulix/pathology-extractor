{
 "cells": [
  {
   "cell_type": "code",
   "execution_count": 5,
   "id": "340e5033",
   "metadata": {},
   "outputs": [
    {
     "name": "stderr",
     "output_type": "stream",
     "text": [
      "/Users/shulix/miniconda3/envs/pathology_extraction/lib/python3.9/site-packages/tqdm/auto.py:21: TqdmWarning: IProgress not found. Please update jupyter and ipywidgets. See https://ipywidgets.readthedocs.io/en/stable/user_install.html\n",
      "  from .autonotebook import tqdm as notebook_tqdm\n",
      "[nltk_data] Downloading package punkt to /Users/shulix/nltk_data...\n",
      "[nltk_data]   Package punkt is already up-to-date!\n"
     ]
    }
   ],
   "source": [
    "import torch \n",
    "import json \n",
    "import pickle\n",
    "import pandas as pd \n",
    "import src.clinical_ner as ner\n",
    "from importlib import reload"
   ]
  },
  {
   "cell_type": "markdown",
   "id": "b63b269a",
   "metadata": {},
   "source": [
    "### Reporting Parsing Examples\n",
    "\n",
    "In order to demonstrate the robustness of our approach to breast cancer clinical report analysis, we conducted an evaluation using a set of 7 sample reports. These reports were selected to represent a range of different structures and layouts commonly encountered in clinical settings, as well as variations in language usage, including the use of negation and misspellings."
   ]
  },
  {
   "cell_type": "code",
   "execution_count": 6,
   "id": "6ccf192b",
   "metadata": {},
   "outputs": [
    {
     "ename": "FileNotFoundError",
     "evalue": "[Errno 2] No such file or directory: 'models/model.all_augmentations.pt'",
     "output_type": "error",
     "traceback": [
      "\u001b[0;31m---------------------------------------------------------------------------\u001b[0m",
      "\u001b[0;31mFileNotFoundError\u001b[0m                         Traceback (most recent call last)",
      "Cell \u001b[0;32mIn[6], line 2\u001b[0m\n\u001b[1;32m      1\u001b[0m \u001b[38;5;66;03m# basic example\u001b[39;00m\n\u001b[0;32m----> 2\u001b[0m \u001b[43mner\u001b[49m\u001b[38;5;241;43m.\u001b[39;49m\u001b[43mextract_entity_from_text\u001b[49m\u001b[43m(\u001b[49m\n\u001b[1;32m      3\u001b[0m \u001b[43m    \u001b[49m\u001b[38;5;124;43m\"\u001b[39;49m\u001b[38;5;124;43ma. breast, left 11:00 o\u001b[39;49m\u001b[38;5;124;43m'\u001b[39;49m\u001b[38;5;124;43mclock 5cm from nipple - maligant finding: ductal carcinoma in situ\u001b[39;49m\u001b[38;5;124;43m\"\u001b[39;49m\u001b[43m,\u001b[49m\u001b[43m \u001b[49m\n\u001b[1;32m      4\u001b[0m \u001b[43m    \u001b[49m\u001b[43mweights_path\u001b[49m\u001b[43m \u001b[49m\u001b[38;5;241;43m=\u001b[39;49m\u001b[38;5;124;43m'\u001b[39;49m\u001b[38;5;124;43mmodels/model.all_augmentations.pt\u001b[39;49m\u001b[38;5;124;43m'\u001b[39;49m\n\u001b[1;32m      5\u001b[0m \u001b[43m)\u001b[49m\n",
      "File \u001b[0;32m~/git_repos/pathology_extraction/src/clinical_ner.py:117\u001b[0m, in \u001b[0;36mextract_entity_from_text\u001b[0;34m(report_text, weights_path, pretrained_weights, device, chunk_size, ids_to_labels, overlap, max_len, n_labels)\u001b[0m\n\u001b[1;32m    115\u001b[0m word_tokenizer \u001b[38;5;241m=\u001b[39m TreebankWordTokenizer()\n\u001b[1;32m    116\u001b[0m \u001b[38;5;66;03m# BERT model and tokenizer\u001b[39;00m\n\u001b[0;32m--> 117\u001b[0m model \u001b[38;5;241m=\u001b[39m \u001b[43mload_model\u001b[49m\u001b[43m(\u001b[49m\n\u001b[1;32m    118\u001b[0m \u001b[43m    \u001b[49m\u001b[43mweights_path\u001b[49m\u001b[43m,\u001b[49m\n\u001b[1;32m    119\u001b[0m \u001b[43m    \u001b[49m\u001b[43mnum_labels\u001b[49m\u001b[38;5;241;43m=\u001b[39;49m\u001b[43mn_labels\u001b[49m\u001b[43m,\u001b[49m\u001b[43m \u001b[49m\n\u001b[1;32m    120\u001b[0m \u001b[43m    \u001b[49m\u001b[43mpretrained_weights\u001b[49m\u001b[38;5;241;43m=\u001b[39;49m\u001b[43mpretrained_weights\u001b[49m\n\u001b[1;32m    121\u001b[0m \u001b[43m\u001b[49m\u001b[43m)\u001b[49m\n\u001b[1;32m    122\u001b[0m bert_tokenizer \u001b[38;5;241m=\u001b[39m BertTokenizerFast\u001b[38;5;241m.\u001b[39mfrom_pretrained(pretrained_weights)\n\u001b[1;32m    123\u001b[0m entity_list \u001b[38;5;241m=\u001b[39m ner_inference(\n\u001b[1;32m    124\u001b[0m     report_text,\n\u001b[1;32m    125\u001b[0m     model, \n\u001b[0;32m   (...)\u001b[0m\n\u001b[1;32m    132\u001b[0m     device\u001b[38;5;241m=\u001b[39mdevice,\n\u001b[1;32m    133\u001b[0m )\n",
      "File \u001b[0;32m~/git_repos/pathology_extraction/src/clinical_ner.py:43\u001b[0m, in \u001b[0;36mload_model\u001b[0;34m(path, num_labels, pretrained_weights, output_hidden_states)\u001b[0m\n\u001b[1;32m     30\u001b[0m \u001b[38;5;28;01mdef\u001b[39;00m\u001b[38;5;250m \u001b[39m\u001b[38;5;21mload_model\u001b[39m(\n\u001b[1;32m     31\u001b[0m     path: \u001b[38;5;28mstr\u001b[39m, \n\u001b[1;32m     32\u001b[0m     num_labels: \u001b[38;5;28mint\u001b[39m \u001b[38;5;241m=\u001b[39m \u001b[38;5;241m4\u001b[39m, \n\u001b[1;32m     33\u001b[0m     pretrained_weights: \u001b[38;5;28mstr\u001b[39m \u001b[38;5;241m=\u001b[39m \u001b[38;5;124m'\u001b[39m\u001b[38;5;124memilyalsentzer/Bio_ClinicalBERT\u001b[39m\u001b[38;5;124m'\u001b[39m, \n\u001b[1;32m     34\u001b[0m     output_hidden_states: \u001b[38;5;28mbool\u001b[39m \u001b[38;5;241m=\u001b[39m \u001b[38;5;28;01mFalse\u001b[39;00m\n\u001b[1;32m     35\u001b[0m ) \u001b[38;5;241m-\u001b[39m\u001b[38;5;241m>\u001b[39m BertForTokenClassification:\n\u001b[1;32m     36\u001b[0m \u001b[38;5;250m    \u001b[39m\u001b[38;5;124;03m\"\"\"\u001b[39;00m\n\u001b[1;32m     37\u001b[0m \u001b[38;5;124;03m    load BERT token classification model from path\u001b[39;00m\n\u001b[1;32m     38\u001b[0m \u001b[38;5;124;03m    \"\"\"\u001b[39;00m\n\u001b[1;32m     39\u001b[0m     model \u001b[38;5;241m=\u001b[39m BertForTokenClassification\u001b[38;5;241m.\u001b[39mfrom_pretrained(\n\u001b[1;32m     40\u001b[0m         pretrained_weights,\n\u001b[1;32m     41\u001b[0m         num_labels\u001b[38;5;241m=\u001b[39mnum_labels, \n\u001b[1;32m     42\u001b[0m         output_hidden_states\u001b[38;5;241m=\u001b[39moutput_hidden_states,\n\u001b[0;32m---> 43\u001b[0m         state_dict\u001b[38;5;241m=\u001b[39m\u001b[43mtorch\u001b[49m\u001b[38;5;241;43m.\u001b[39;49m\u001b[43mload\u001b[49m\u001b[43m(\u001b[49m\u001b[43mpath\u001b[49m\u001b[43m)\u001b[49m[\u001b[38;5;124m'\u001b[39m\u001b[38;5;124mmodel\u001b[39m\u001b[38;5;124m'\u001b[39m]\n\u001b[1;32m     44\u001b[0m     )\n\u001b[1;32m     45\u001b[0m     \u001b[38;5;28;01mreturn\u001b[39;00m model\n",
      "File \u001b[0;32m~/miniconda3/envs/pathology_extraction/lib/python3.9/site-packages/torch/serialization.py:1425\u001b[0m, in \u001b[0;36mload\u001b[0;34m(f, map_location, pickle_module, weights_only, mmap, **pickle_load_args)\u001b[0m\n\u001b[1;32m   1422\u001b[0m \u001b[38;5;28;01mif\u001b[39;00m \u001b[38;5;124m\"\u001b[39m\u001b[38;5;124mencoding\u001b[39m\u001b[38;5;124m\"\u001b[39m \u001b[38;5;129;01mnot\u001b[39;00m \u001b[38;5;129;01min\u001b[39;00m pickle_load_args\u001b[38;5;241m.\u001b[39mkeys():\n\u001b[1;32m   1423\u001b[0m     pickle_load_args[\u001b[38;5;124m\"\u001b[39m\u001b[38;5;124mencoding\u001b[39m\u001b[38;5;124m\"\u001b[39m] \u001b[38;5;241m=\u001b[39m \u001b[38;5;124m\"\u001b[39m\u001b[38;5;124mutf-8\u001b[39m\u001b[38;5;124m\"\u001b[39m\n\u001b[0;32m-> 1425\u001b[0m \u001b[38;5;28;01mwith\u001b[39;00m \u001b[43m_open_file_like\u001b[49m\u001b[43m(\u001b[49m\u001b[43mf\u001b[49m\u001b[43m,\u001b[49m\u001b[43m \u001b[49m\u001b[38;5;124;43m\"\u001b[39;49m\u001b[38;5;124;43mrb\u001b[39;49m\u001b[38;5;124;43m\"\u001b[39;49m\u001b[43m)\u001b[49m \u001b[38;5;28;01mas\u001b[39;00m opened_file:\n\u001b[1;32m   1426\u001b[0m     \u001b[38;5;28;01mif\u001b[39;00m _is_zipfile(opened_file):\n\u001b[1;32m   1427\u001b[0m         \u001b[38;5;66;03m# The zipfile reader is going to advance the current file position.\u001b[39;00m\n\u001b[1;32m   1428\u001b[0m         \u001b[38;5;66;03m# If we want to actually tail call to torch.jit.load, we need to\u001b[39;00m\n\u001b[1;32m   1429\u001b[0m         \u001b[38;5;66;03m# reset back to the original position.\u001b[39;00m\n\u001b[1;32m   1430\u001b[0m         orig_position \u001b[38;5;241m=\u001b[39m opened_file\u001b[38;5;241m.\u001b[39mtell()\n",
      "File \u001b[0;32m~/miniconda3/envs/pathology_extraction/lib/python3.9/site-packages/torch/serialization.py:751\u001b[0m, in \u001b[0;36m_open_file_like\u001b[0;34m(name_or_buffer, mode)\u001b[0m\n\u001b[1;32m    749\u001b[0m \u001b[38;5;28;01mdef\u001b[39;00m\u001b[38;5;250m \u001b[39m\u001b[38;5;21m_open_file_like\u001b[39m(name_or_buffer, mode):\n\u001b[1;32m    750\u001b[0m     \u001b[38;5;28;01mif\u001b[39;00m _is_path(name_or_buffer):\n\u001b[0;32m--> 751\u001b[0m         \u001b[38;5;28;01mreturn\u001b[39;00m \u001b[43m_open_file\u001b[49m\u001b[43m(\u001b[49m\u001b[43mname_or_buffer\u001b[49m\u001b[43m,\u001b[49m\u001b[43m \u001b[49m\u001b[43mmode\u001b[49m\u001b[43m)\u001b[49m\n\u001b[1;32m    752\u001b[0m     \u001b[38;5;28;01melse\u001b[39;00m:\n\u001b[1;32m    753\u001b[0m         \u001b[38;5;28;01mif\u001b[39;00m \u001b[38;5;124m\"\u001b[39m\u001b[38;5;124mw\u001b[39m\u001b[38;5;124m\"\u001b[39m \u001b[38;5;129;01min\u001b[39;00m mode:\n",
      "File \u001b[0;32m~/miniconda3/envs/pathology_extraction/lib/python3.9/site-packages/torch/serialization.py:732\u001b[0m, in \u001b[0;36m_open_file.__init__\u001b[0;34m(self, name, mode)\u001b[0m\n\u001b[1;32m    731\u001b[0m \u001b[38;5;28;01mdef\u001b[39;00m\u001b[38;5;250m \u001b[39m\u001b[38;5;21m__init__\u001b[39m(\u001b[38;5;28mself\u001b[39m, name, mode):\n\u001b[0;32m--> 732\u001b[0m     \u001b[38;5;28msuper\u001b[39m()\u001b[38;5;241m.\u001b[39m\u001b[38;5;21m__init__\u001b[39m(\u001b[38;5;28;43mopen\u001b[39;49m\u001b[43m(\u001b[49m\u001b[43mname\u001b[49m\u001b[43m,\u001b[49m\u001b[43m \u001b[49m\u001b[43mmode\u001b[49m\u001b[43m)\u001b[49m)\n",
      "\u001b[0;31mFileNotFoundError\u001b[0m: [Errno 2] No such file or directory: 'models/model.all_augmentations.pt'"
     ]
    }
   ],
   "source": [
    "# basic example\n",
    "ner.extract_entity_from_text(\n",
    "    \"a. breast, left 11:00 o'clock 5cm from nipple - maligant finding: ductal carcinoma in situ\", \n",
    "    weights_path ='models/model.all_augmentations.pt'\n",
    ")"
   ]
  },
  {
   "cell_type": "code",
   "execution_count": 3,
   "id": "e46d9aa1",
   "metadata": {},
   "outputs": [
    {
     "data": {
      "text/plain": [
       "[{'sentence': 'a. breast, left 11:00 oclock 5cm fn - maligant finding: ductal caricinoma in situ, high grade',\n",
       "  'entities': [{'label': 'I-position',\n",
       "    'span': (16, 35),\n",
       "    'text': '11:00 oclock 5cm fn'},\n",
       "   {'label': 'I-cancer_subtype',\n",
       "    'span': (56, 81),\n",
       "    'text': 'ductal caricinoma in situ'},\n",
       "   {'label': 'I-cancer_grade', 'span': (83, 93), 'text': 'high grade'}]}]"
      ]
     },
     "execution_count": 3,
     "metadata": {},
     "output_type": "execute_result"
    }
   ],
   "source": [
    "# modified with slight mispellling\n",
    "ner.extract_entity_from_text(\n",
    "    \"a. breast, left 11:00 oclock 5cm fn - maligant finding: ductal caricinoma in situ, high grade\", \n",
    "    weights_path ='models/model.all_augmentations.pt'\n",
    ")"
   ]
  },
  {
   "cell_type": "code",
   "execution_count": 11,
   "id": "82d672d6",
   "metadata": {},
   "outputs": [
    {
     "data": {
      "text/plain": [
       "[{'sentence': 'a. breast, left 11:00 oclock 5cm fn - no evidence of ductal caricinoma in situ',\n",
       "  'entities': [{'label': 'I-position',\n",
       "    'span': (16, 35),\n",
       "    'text': '11:00 oclock 5cm fn'}]}]"
      ]
     },
     "execution_count": 11,
     "metadata": {},
     "output_type": "execute_result"
    }
   ],
   "source": [
    "# apply negation example\n",
    "ner.extract_entity_from_text(\n",
    "    \"a. breast, left 11:00 oclock 5cm fn - no evidence of ductal caricinoma in situ\",\n",
    "    weights_path='models/model.all_augmentations.pt'\n",
    ")"
   ]
  },
  {
   "cell_type": "code",
   "execution_count": null,
   "id": "cc8ca5fa",
   "metadata": {},
   "outputs": [],
   "source": [
    "ner.extract_entity_from_text(\n",
    "    \"a. breast, left 11:00 oclock 5cm fn - no evidence of ductal caricinoma in situ\",\n",
    "    weights_path='models/model.all_augmentations.pt'\n",
    ")"
   ]
  },
  {
   "cell_type": "markdown",
   "id": "1a0765c2",
   "metadata": {},
   "source": [
    "### Reports with Mispellings\n",
    "\n",
    "Breast cancer clinical reports can contain errors, such as misspellings, which can break strict rule-based systems. However, our flexible and adaptable approach to report analysis can handle such errors without requiring explicit training on misspelled data. Our model can accurately extract relevant information, even when it is expressed in a non-standard or incorrect way. For example, we can successfully identify the phrase \"invasive ductal carcinoma\" even if it is misspelled as \"invasive ductal carinoma\" by using contextual clues and report structure."
   ]
  },
  {
   "cell_type": "code",
   "execution_count": 4,
   "id": "8c43e6e9",
   "metadata": {},
   "outputs": [
    {
     "name": "stdout",
     "output_type": "stream",
     "text": [
      "file: data/example_diagnosis.mispelling_1.txt\n",
      "--------------------------------------------------\n",
      "A -  Lymph node, left axillary sentinel #1, biopsy: (slide for review, outside#UHS-17-010523, A)  - One lymph node, negative for metastatic carcinoma, (0/1).      B -  Breast, left, needle wire-localized partial mastectomy : (slide for review, outside# xxxx, B)  - Invasive ductal carinoma with tubular features, well differentiated, with associated microcalcifications, measuring 3.0mm in greatest dimension (measurements on slide \"\"B9\"\"). See note.  - No in situ carcinoma is identified.  - No lymphovascular invasion is present.  - Biopsy site changes.     Note:   Invasive carcinoma is identified 2.5mm from the lateral (green ink) margin (closest margin).  See specimen \"\"C\"\" for additional lateral margin.    C -  Additional lateral margin, biopsy: (slide for review, outside# xxxx, C)  - Benign breast tissue.\n"
     ]
    }
   ],
   "source": [
    "file_path = 'data/example_diagnosis.mispelling_1.txt'\n",
    "with open(file_path, 'rb') as f:\n",
    "    text = f.read().decode()\n",
    "    \n",
    "print(f'file: {file_path}')\n",
    "print('-'*50)\n",
    "print(text)"
   ]
  },
  {
   "cell_type": "code",
   "execution_count": 5,
   "id": "da5c26d4",
   "metadata": {},
   "outputs": [
    {
     "data": {
      "text/plain": [
       "[{'sentence': 'a - lymph node, left axillary sentinel #1, biopsy: (slide for review, outside#uhs-17-010523, a) - one lymph node, negative for metastatic carcinoma, (0/1).',\n",
       "  'entities': [{'label': 'I-position', 'span': (21, 29), 'text': 'axillary'}]},\n",
       " {'sentence': 'b - breast, left, needle wire-localized partial mastectomy : (slide for review, outside# xxxx, b) - invasive ductal carinoma with tubular features, well differentiated, with associated microcalcifications, measuring 3.0mm in greatest dimension (measurements on slide \"\"b9\"\").',\n",
       "  'entities': [{'label': 'I-cancer_subtype',\n",
       "    'span': (100, 124),\n",
       "    'text': 'invasive ductal carinoma'},\n",
       "   {'label': 'I-cancer_grade',\n",
       "    'span': (148, 167),\n",
       "    'text': 'well differentiated'}]},\n",
       " {'sentence': 'see note.', 'entities': []},\n",
       " {'sentence': '- no in situ carcinoma is identified.', 'entities': []},\n",
       " {'sentence': '- no lymphovascular invasion is present.', 'entities': []},\n",
       " {'sentence': '- biopsy site changes.', 'entities': []},\n",
       " {'sentence': 'note: invasive carcinoma is identified 2.5mm from the lateral (green ink) margin (closest margin).',\n",
       "  'entities': []},\n",
       " {'sentence': 'see specimen \"\"c\"\" for additional lateral margin.',\n",
       "  'entities': []},\n",
       " {'sentence': 'c - additional lateral margin, biopsy: (slide for review, outside# xxxx, c) - benign breast tissue.',\n",
       "  'entities': []}]"
      ]
     },
     "execution_count": 5,
     "metadata": {},
     "output_type": "execute_result"
    }
   ],
   "source": [
    "ner.extract_entity_from_report(\n",
    "    'data/example_diagnosis.mispelling_1.txt',\n",
    "    weights_path ='models/model.all_augmentations.pt'\n",
    ")"
   ]
  },
  {
   "cell_type": "markdown",
   "id": "41281e32",
   "metadata": {},
   "source": [
    "### Reports with Negation\n",
    "\n",
    "Negation in breast cancer clinical reports typically occurs when a particular symptom, finding or diagnosis is specifically excluded or ruled out. For example, if a patient undergoes a diagnostic test for breast cancer and the results come back negative, the report may state that \"no signs of invasive carcinoma\". However, in the following example, the report describes a finding that is similar to but not quite cancer. the negation is written in a convoluted and ambiguous way, causing our previous strict rule-based systems to fail. "
   ]
  },
  {
   "cell_type": "code",
   "execution_count": 6,
   "id": "e0a302cb",
   "metadata": {},
   "outputs": [
    {
     "name": "stdout",
     "output_type": "stream",
     "text": [
      "file: data/example_diagnosis.negation_1.txt\n",
      "--------------------------------------------------\n",
      "A -  Lymph node, left axillary sentinel #1, biopsy: (slide for review, outside#UHS-17-010523, A)  - One lymph node, negative for metastatic carcinoma, (0/1).      B -  Breast, left, needle wire-localized partial mastectomy : (slide for review, outside# xxxx, B)  - Invasive ductal carinoma with tubular features, well differentiated, with associated microcalcifications, measuring 3.0mm in greatest dimension (measurements on slide \"\"B9\"\"). See note.  - No in situ carcinoma is identified.  - No lymphovascular invasion is present.  - Biopsy site changes.     Note:   Invasive carcinoma is identified 2.5mm from the lateral (green ink) margin (closest margin).  See specimen \"\"C\"\" for additional lateral margin.    C -  Additional lateral margin, biopsy: (slide for review, outside# xxxx, C)  - Benign breast tissue.\n"
     ]
    }
   ],
   "source": [
    "negation_file_path = 'data/example_diagnosis.negation_1.txt'\n",
    "with open(negation_file_path, 'rb') as f:\n",
    "    negation_text = f.read().decode()\n",
    "    \n",
    "print(f'file: {negation_file_path}')\n",
    "print('-'*50)\n",
    "print(text)"
   ]
  },
  {
   "cell_type": "code",
   "execution_count": 7,
   "id": "cb3d941a",
   "metadata": {},
   "outputs": [
    {
     "data": {
      "text/plain": [
       "[{'sentence': '1. breast, right 9:00, segmental excision with needle localization: - fibrocystic change, proliferative type, including atypical ductal hyperplasia, associated with microcalcifications - intraductal papilloma - hyalinized and calcified fibroadenoma - biopsy site change 2. breast, right 1:00, segmental excision with needle localization: - fibrocystic change, proliferative type, including atypical ductal hyperplasia, associated with microcalcifications - intraductal papilloma - biopsy site change comment: there are scattered foci in parts 1 and 2 showing a micropapillary and cribriform ductal proliferation, which fall short of the criteria for ductal carcinoma in situ.',\n",
       "  'entities': [{'label': 'I-position', 'span': (17, 21), 'text': '9:00'},\n",
       "   {'label': 'I-position', 'span': (287, 291), 'text': '1:00'}]},\n",
       " {'sentence': 'multiple levels have been examined.', 'entities': []},\n",
       " {'sentence': 'xxxx has reviewed the case and concurs with the diagnosis of atypical ductal hyperplasia.',\n",
       "  'entities': []}]"
      ]
     },
     "execution_count": 7,
     "metadata": {},
     "output_type": "execute_result"
    }
   ],
   "source": [
    "ner.extract_entity_from_report(\n",
    "    negation_file_path,\n",
    "    weights_path ='models/model.all_augmentations.pt'\n",
    ")"
   ]
  },
  {
   "cell_type": "markdown",
   "id": "f01df3a4",
   "metadata": {},
   "source": [
    "### Example outputs"
   ]
  },
  {
   "cell_type": "code",
   "execution_count": 8,
   "id": "e2ec2f20",
   "metadata": {},
   "outputs": [
    {
     "data": {
      "text/plain": [
       "[{'sentence': '1. breast, right 9:00, segmental excision with needle localization: - fibrocystic change, proliferative type, including atypical ductal hyperplasia, associated with microcalcifications - intraductal papilloma - hyalinized and calcified fibroadenoma - biopsy site change 2. breast, right 1:00, segmental excision with needle localization: - fibrocystic change, proliferative type, including atypical ductal hyperplasia, associated with microcalcifications - intraductal papilloma - biopsy site change comment: there are scattered foci in parts 1 and 2 showing a micropapillary and cribriform ductal proliferation, which fall short of the criteria for ductal carcinoma in situ.',\n",
       "  'entities': [{'label': 'position', 'span': (17, 21), 'text': '9:00'},\n",
       "   {'label': 'position', 'span': (287, 291), 'text': '1:00'}]},\n",
       " {'sentence': 'multiple levels have been examined.', 'entities': []},\n",
       " {'sentence': 'xxxx has reviewed the case and concurs with the diagnosis of atypical ductal hyperplasia.',\n",
       "  'entities': []}]"
      ]
     },
     "execution_count": 8,
     "metadata": {},
     "output_type": "execute_result"
    }
   ],
   "source": [
    "import pickle\n",
    "with open('example_outputs/example_diagnosis.negation_1.entities.pickle', 'rb') as f:\n",
    "    example_output = pickle.load(f)\n",
    "    \n",
    "example_output"
   ]
  },
  {
   "cell_type": "code",
   "execution_count": null,
   "id": "e35ee521",
   "metadata": {},
   "outputs": [],
   "source": []
  }
 ],
 "metadata": {
  "kernelspec": {
   "display_name": "pathology_extraction",
   "language": "python",
   "name": "python3"
  },
  "language_info": {
   "codemirror_mode": {
    "name": "ipython",
    "version": 3
   },
   "file_extension": ".py",
   "mimetype": "text/x-python",
   "name": "python",
   "nbconvert_exporter": "python",
   "pygments_lexer": "ipython3",
   "version": "3.9.18"
  }
 },
 "nbformat": 4,
 "nbformat_minor": 5
}
